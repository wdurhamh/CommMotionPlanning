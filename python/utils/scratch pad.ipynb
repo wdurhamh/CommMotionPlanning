{
 "cells": [
  {
   "cell_type": "code",
   "execution_count": 5,
   "metadata": {},
   "outputs": [
    {
     "name": "stdout",
     "output_type": "stream",
     "text": [
      " Volume in drive C is Local Disk\n",
      " Volume Serial Number is 28D0-C244\n",
      "\n",
      " Directory of C:\\Users\\wdurh\\Documents\\research\\comm aware robotics\\Code\\python\\utils\n",
      "\n",
      "05/28/2021  10:35 AM    <DIR>          .\n",
      "05/28/2021  10:35 AM    <DIR>          ..\n",
      "05/26/2021  05:40 PM    <DIR>          .ipynb_checkpoints\n",
      "04/29/2021  01:40 PM             2,348 CoordTransforms.py\n",
      "05/28/2021  10:35 AM            14,439 scratch pad.ipynb\n",
      "04/27/2021  03:31 PM                 0 __init__.py\n",
      "04/29/2021  01:40 PM    <DIR>          __pycache__\n",
      "               3 File(s)         16,787 bytes\n",
      "               4 Dir(s)  91,427,074,048 bytes free\n"
     ]
    }
   ],
   "source": [
    "!dir"
   ]
  },
  {
   "cell_type": "code",
   "execution_count": 34,
   "metadata": {},
   "outputs": [],
   "source": []
  },
  {
   "cell_type": "code",
   "execution_count": 35,
   "metadata": {},
   "outputs": [],
   "source": []
  }
 ],
 "metadata": {
  "kernelspec": {
   "display_name": "Python 3",
   "language": "python",
   "name": "python3"
  },
  "language_info": {
   "codemirror_mode": {
    "name": "ipython",
    "version": 3
   },
   "file_extension": ".py",
   "mimetype": "text/x-python",
   "name": "python",
   "nbconvert_exporter": "python",
   "pygments_lexer": "ipython3",
   "version": "3.8.3"
  }
 },
 "nbformat": 4,
 "nbformat_minor": 4
}
