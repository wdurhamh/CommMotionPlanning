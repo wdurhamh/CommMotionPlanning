{
 "cells": [
  {
   "cell_type": "code",
   "execution_count": 1,
   "metadata": {},
   "outputs": [],
   "source": [
    "import numpy as np\n",
    "import matplotlib.pyplot as plt\n",
    "from matplotlib.patches import  Polygon\n",
    "from matplotlib.collections import PatchCollection"
   ]
  },
  {
   "cell_type": "code",
   "execution_count": 2,
   "metadata": {},
   "outputs": [
    {
     "data": {
      "text/plain": [
       "(-3.0, 4.0)"
      ]
     },
     "execution_count": 2,
     "metadata": {},
     "output_type": "execute_result"
    },
    {
     "data": {
      "image/png": "[encoded data removed]",
      "text/plain": [
       "<Figure size 432x288 with 1 Axes>"
      ]
     },
     "metadata": {
      "needs_background": "light"
     },
     "output_type": "display_data"
    }
   ],
   "source": [
    "#assume vertices are given in clockwise order\n",
    "order= 'CW'\n",
    "vertices = np.array([[0,0],[-1,1], [-1,2], [2, 2], [0.5, 1.25], [3, -1], [0.5, 0.25]])\n",
    "pgn = Polygon(vertices)\n",
    "pc = PatchCollection([pgn])\n",
    "# Create figure and axes\n",
    "fig, ax = plt.subplots(1)\n",
    "ax.add_collection(pc)\n",
    "ax.set_xlim(-3, 5)\n",
    "ax.set_ylim(-3, 4)"
   ]
  },
  {
   "cell_type": "code",
   "execution_count": 65,
   "metadata": {},
   "outputs": [],
   "source": [
    "def find_reflex_angles(vertices, order):\n",
    "    #for each triplet of vertices, see if they form an angle that contradicts\n",
    "    #the point order (e.g., if it's counterlockwise when order is clockwise)\n",
    "    n = len(vertices)\n",
    "    reflex_idx = []\n",
    "    for i in range(n):\n",
    "        a = vertices[i]\n",
    "        b = vertices[(i+1)%n]\n",
    "        c = vertices[(i+2)%n]\n",
    "        ccw = is_ccw(a,b,c)\n",
    "        if (ccw and order == 'CW') or (not ccw and order == 'CCW'):\n",
    "            reflex_idx.append((i+1)%n)\n",
    "    \n",
    "    return reflex_idx\n",
    "        \n",
    "def is_ccw(a,b,c):\n",
    "    return (b[0] - a[0])*(c[1] - b[1]) - (c[0] - b[0])*(b[1] - a[1]) > 0\n",
    "\n",
    "def is_convex(vertices, order = 'CW'):\n",
    "    return len(find_reflex_angles(vertices, order)) == 0\n",
    "    \n",
    "def segments_intersect(a1, b1, a2, b2):\n",
    "    return is_ccw(a1, b1, a2) != is_ccw(a1, b1, b2) and is_ccw(a2, b2, a1) != is_ccw(a2, b2, b1)\n",
    "\n",
    "def build_XSI(vertices, order):\n",
    "    #paper says this can be done in O(n^2logn) time, but I'm not sure\n",
    "    #what that algorithm would look like\n",
    "    n = len(vertices)\n",
    "    \n",
    "    XSI = np.ones((n,n))\n",
    "    #check all cords to see which intersect\n",
    "    for i in range(n):\n",
    "        #since i+1 is just an edge, which we know is OK\n",
    "        for j in range(i+2, n):\n",
    "            for l in range(n):\n",
    "                k = (l+1)%n\n",
    "                if i!=l and i!=k and j!=l and j!=k and segments_intersect(vertices[i], vertices[j], vertices[l], vertices[k]):\n",
    "                    XSI[i,j] = 0\n",
    "                    XSI[j,i] = 0\n",
    "                    XSI[l,k] = 0\n",
    "                    XSI[k,l] = 0\n",
    "    \n",
    "    #now check to make sure the chord candidates which don't intersect other candidates\n",
    "    # is inside the polygon\n",
    "    for i in range(n):\n",
    "        #since i+1 is just an edge, which we know is OK\n",
    "        for j in range(i+2, n):\n",
    "            if XSI[i,j]:\n",
    "                mid_point = (vertices[i] + vertices[j])/2\n",
    "                if not point_in_poly(vertices, mid_point):\n",
    "                    XSI[i,j] = 0\n",
    "                    XSI[j,i] = 0\n",
    "    return XSI\n",
    "\n",
    "def point_in_poly(vertices, pt):\n",
    "    n = len(vertices)\n",
    "    n_inter = 0\n",
    "    \n",
    "    end_pt = np.max(vertices,axis=0)+1#just put another point way out there\n",
    "\n",
    "    #check how many edges we intersect\n",
    "    for i in range(n):\n",
    "        a1 = vertices[i]\n",
    "        b1 = vertices[(i+1)%n]\n",
    "        n_inter += segments_intersect(a1, b1, pt, end_pt)\n",
    "\n",
    "    #odd number of intersections indicates point was in interior\n",
    "    return n_inter%2 == 1\n",
    "\n",
    "\n",
    "def plot_XSI(XSI, vertices):\n",
    "    n = len(vertices)\n",
    "    for i in range(n):\n",
    "        for j in range(i+1, n):\n",
    "            if XSI[i,j]:\n",
    "                idx = [i,j]\n",
    "                plt.plot(vertices[idx,0], vertices[idx,1])\n",
    "                \n",
    "def is_cyclic(a_ids, b_ids, n):\n",
    "    #Must be cyclic in Clockwise direction? Unclear from paper.\n",
    "    #For now, assume that's the case\n",
    "    #Reset indices so that i is at 0\n",
    "    i,j = (a_ids - a_ids[0])%n\n",
    "    k,l = (b_ids - a_ids[0])%n\n",
    "    #it's ok for l to be at 0\n",
    "    if l==0:\n",
    "        l = n\n",
    "    return  (k>=j and l>k)\n",
    "                "
   ]
  },
  {
   "cell_type": "code",
   "execution_count": 40,
   "metadata": {},
   "outputs": [
    {
     "data": {
      "text/plain": [
       "[4, 6]"
      ]
     },
     "execution_count": 40,
     "metadata": {},
     "output_type": "execute_result"
    }
   ],
   "source": [
    "find_reflex_angles(vertices, order)"
   ]
  },
  {
   "cell_type": "code",
   "execution_count": 41,
   "metadata": {},
   "outputs": [
    {
     "data": {
      "text/plain": [
       "False"
      ]
     },
     "execution_count": 41,
     "metadata": {},
     "output_type": "execute_result"
    }
   ],
   "source": [
    "is_convex(vertices, order)"
   ]
  },
  {
   "cell_type": "code",
   "execution_count": 44,
   "metadata": {},
   "outputs": [
    {
     "data": {
      "image/png": "[encoded data removed]",
      "text/plain": [
       "<Figure size 432x288 with 1 Axes>"
      ]
     },
     "metadata": {
      "needs_background": "light"
     },
     "output_type": "display_data"
    }
   ],
   "source": [
    "XSI = build_XSI(vertices, order)\n",
    "pgn = Polygon(vertices)\n",
    "pc = PatchCollection([pgn])\n",
    "# Create figure and axes\n",
    "fig, ax = plt.subplots(1)\n",
    "ax.add_collection(pc)\n",
    "ax.set_xlim(-3, 5)\n",
    "ax.set_ylim(-3, 4)\n",
    "plot_XSI(XSI, vertices)"
   ]
  },
  {
   "cell_type": "code",
   "execution_count": 8,
   "metadata": {},
   "outputs": [],
   "source": [
    "def cnvx_skull(vertices, order):\n",
    "    n =len(vertices)\n",
    "    #calculate extremal chords\n",
    "    XSI = build_XSI(vertices, order)\n",
    "    chord_idxs = np.asarray(np.where(XSI==1)).T\n",
    "    n_chords = len(chord_idxs)\n",
    "    A = -1*np.Inf*np.ones((n_chords, n_chords))\n",
    "    #calculate area of chord set\n",
    "    for i in range(n_chords):\n",
    "        for j in range(n_chords):\n",
    "            if chain_is_admissible(vertices, chord_idxs[i], chord_idxs[j], n):\n",
    "            \n",
    "#\n",
    "\n",
    "    \n",
    "def chain_is_admissible(vertices, idcs1, idcs2):\n",
    "        if not is_cyclic(idcs1, idcs2):\n",
    "            return False\n",
    "        \n",
    "        #now check that first node in balanced chain is in idcs1 segment\n",
    "        #and that last node in balanced chain is in idcs2 segment\n",
    "        \n",
    "        #calc balanced (L0, L1, R(C1, C2)) chain"
   ]
  },
  {
   "cell_type": "code",
   "execution_count": 58,
   "metadata": {},
   "outputs": [],
   "source": [
    "chord_idxs = np.asarray(np.where(XSI==1)).T"
   ]
  },
  {
   "cell_type": "code",
   "execution_count": 74,
   "metadata": {},
   "outputs": [
    {
     "data": {
      "text/plain": [
       "True"
      ]
     },
     "execution_count": 74,
     "metadata": {},
     "output_type": "execute_result"
    }
   ],
   "source": [
    "is_cyclic(np.array([2,1]), np.array([1,2]), 4)"
   ]
  },
  {
   "cell_type": "code",
   "execution_count": null,
   "metadata": {},
   "outputs": [],
   "source": []
  }
 ],
 "metadata": {
  "kernelspec": {
   "display_name": "Python 3",
   "language": "python",
   "name": "python3"
  },
  "language_info": {
   "codemirror_mode": {
    "name": "ipython",
    "version": 3
   },
   "file_extension": ".py",
   "mimetype": "text/x-python",
   "name": "python",
   "nbconvert_exporter": "python",
   "pygments_lexer": "ipython3",
   "version": "3.8.3"
  }
 },
 "nbformat": 4,
 "nbformat_minor": 4
}
