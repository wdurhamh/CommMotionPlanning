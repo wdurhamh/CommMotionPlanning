{
 "cells": [
  {
   "cell_type": "code",
   "execution_count": 1,
   "metadata": {},
   "outputs": [],
   "source": [
    "import PollingSystem as PS\n",
    "import MarkovianRP as MRP\n",
    "import numpy as np\n",
    "\n",
    "from matplotlib import pyplot as plt"
   ]
  },
  {
   "cell_type": "code",
   "execution_count": 2,
   "metadata": {},
   "outputs": [
    {
     "name": "stdout",
     "output_type": "stream",
     "text": [
      "Theoretical Wait Time: 351.181336\n",
      "Theoretical Wait Time: 351.181320\n",
      "Theoretical Wait Time: 351.181300\n",
      "Theoretical Wait Time: 351.180943\n",
      "Theoretical Wait Time: 351.179356\n",
      "Theoretical Wait Time: 351.177373\n",
      "Theoretical Wait Time: 351.161500\n",
      "Theoretical Wait Time: 351.141649\n",
      "Theoretical Wait Time: 350.982471\n",
      "Theoretical Wait Time: 350.782628\n",
      "Theoretical Wait Time: 350.380404\n",
      "Theoretical Wait Time: 349.161554\n",
      "Theoretical Wait Time: 347.152509\n",
      "Theoretical Wait Time: 343.683711\n"
     ]
    }
   ],
   "source": [
    "ps = PS.PollingSystem([1, 1, 1], 0.0001)\n",
    "\n",
    "rp = MRP.RandomRP([1/3, 1/3, 1/3])\n",
    "s12 = [0.00001, 0.00005,0.0001, 0.001, 0.005, 0.01, 0.05, 0.1, 0.5, 1, 2, 5, 10, 20]\n",
    "d = 500\n",
    "for s in s12:\n",
    "    S =  np.array([[0, s, d],[s, 0, np.sqrt(d+s**2)],[1.5, np.sqrt(d+s**2), 0]])\n",
    "    wait = ps.calc_avg_wait(rp, S)\n",
    "    print(\"Theoretical Wait Time: %f\"%(wait))\n",
    "    #xt = ps.simulate(rp, S, 10000)"
   ]
  },
  {
   "cell_type": "code",
   "execution_count": 3,
   "metadata": {},
   "outputs": [],
   "source": [
    "#NOTE: decreasing switching time does NOT guarantee decreasing average waiting time"
   ]
  },
  {
   "cell_type": "code",
   "execution_count": 5,
   "metadata": {},
   "outputs": [
    {
     "name": "stdout",
     "output_type": "stream",
     "text": [
      "Theoretical Wait Time: 4.9159\n",
      "System Average Wait Time: 4.4548\n"
     ]
    }
   ],
   "source": [
    "ps = PS.PollingSystem([0.2, 1, 0.4], 0.1)\n",
    "#P = np.array([[0, 0.2, 0.8],[0.4, 0, 0.6],[0.5, 0.5, 0]])\n",
    "#rp = MRP.MarkovianRP(P)\n",
    "rp = MRP.RandomRP([0.05881012, 0.08096263, 0.86022725])\n",
    "S =  np.array([[0, 5, 1],[5, 0, np.sqrt(6)],[1,np.sqrt(6), 0]])\n",
    "wait = ps.calc_avg_wait(rp, S)\n",
    "print(\"Theoretical Wait Time: %.4f\"%(wait))\n",
    "xt, wt, queues = ps.simulate(rp, S, 50000)"
   ]
  },
  {
   "cell_type": "code",
   "execution_count": null,
   "metadata": {},
   "outputs": [],
   "source": [
    "def tail_avg_wait(queues, tail_start, Ls):\n",
    "    avg = 0\n",
    "    for i in range(len(queues)):\n",
    "        queue = queues[i]\n",
    "        sst = queue.service_start_times\n",
    "        upper_i = len(service_start_times) - 1\n",
    "        lower_i = 0\n",
    "        while upper_i - lower_i != 1:\n",
    "            test_i = (upper_i + lower_i)//2\n",
    "            if sst[test_i] < tail_start:\n",
    "                lower_i = test_i\n",
    "            elif sst[test_i] > tail_start:\n",
    "                upper_i = test_i\n",
    "            else:\n",
    "                upper_i = test_i\n",
    "                lower_i = test_i-1\n",
    "        q_tail = sst[upper_i:]\n",
    "        avg += Ls[i]*np.mean(q_tail)\n",
    "    return avg/np.sum(Ls)"
   ]
  },
  {
   "cell_type": "code",
   "execution_count": null,
   "metadata": {},
   "outputs": [],
   "source": [
    "xt = np.array(xt)\n",
    "fig = plt.figure(figsize=[20,10])\n",
    "plt.plot(xt[:,0], xt[:,1], label = 'Queue Servicing')\n",
    "plt.plot(xt[:,0], xt[:,2], label = 'Queue One')\n",
    "plt.plot(xt[:,0], xt[:,3], label = 'Queue Two')\n",
    "plt.plot(xt[:,0], xt[:,4], label = 'Queue Three')\n",
    "plt.legend()\n",
    "plt.show()"
   ]
  },
  {
   "cell_type": "code",
   "execution_count": null,
   "metadata": {},
   "outputs": [],
   "source": [
    "wt = np.array(wt)\n",
    "fig = plt.figure(figsize=[20,10])\n",
    "plt.plot(wt[:,0], wt[:,1])\n",
    "plt.title(\"Average Waiting Time\")\n",
    "plt.show()"
   ]
  },
  {
   "cell_type": "code",
   "execution_count": null,
   "metadata": {},
   "outputs": [],
   "source": [
    "res = ps.calc_optiaml_rp(S)\n",
    "print(res)"
   ]
  },
  {
   "cell_type": "code",
   "execution_count": null,
   "metadata": {},
   "outputs": [],
   "source": [
    "import matplotlib\n",
    "matplotlib.rcParams['text.usetex'] = True\n",
    "\n",
    "gran = 100\n",
    "pi1 = np.linspace(1/gran,1-(1/gran), gran)\n",
    "pi2 = np.linspace(1/gran,1 - (1/gran), gran)\n",
    "Z = -1*np.Inf*np.ones([gran, gran])\n",
    "\n",
    "fmin = 10000\n",
    "for i in range(gran):\n",
    "    for j in range(gran):\n",
    "        pi = np.array([pi1[i], pi2[j], 1 - pi1[i] - pi2[j]])\n",
    "        if pi[2] > 0:\n",
    "            Z[i,j] = ps._calc_avg_wait_random( pi , S)\n",
    "            if Z[i,j] < fmin:\n",
    "                fmin=Z[i,j]\n",
    "print(fmin)\n",
    "\n",
    "fig, ax = plt.subplots()\n",
    "ws = ax.imshow(np.transpose(Z), extent=[0,1,0,1], cmap='winter', interpolation='nearest',\n",
    "               vmin=12.5,vmax=30, origin='lower')\n",
    "fig.colorbar(ws)\n",
    "plt.show()\n",
    "\n",
    "fig = plt.figure(figsize=(10,8))\n",
    "cont = plt.contourf(pi1, pi2, np.minimum(Z.T, 6))\n",
    "#cont = plt.contourf(pi1, pi2, np.minimum(np.log(Z.T), 2.6) )\n",
    "fig.colorbar(cont)\n",
    "plt.scatter(res.x[0], res.x[1], label='Calculated Optimum', marker='x', c='r')\n",
    "plt.legend()\n",
    "plt.title('Average Waiting Times Contours - Capped at 6s')\n",
    "plt.xlabel('$\\pi_1$', fontsize=20)\n",
    "plt.ylabel('$\\pi_2$', fontsize=20)\n",
    "plt.show()\n",
    "\n",
    "fig = plt.figure(figsize=(10,8))\n",
    "cont = plt.contourf(pi1, pi2, np.minimum(Z.T, 15))\n",
    "fig.colorbar(cont)\n",
    "plt.title('Average Waiting Times Contours - Capped at 15s')\n",
    "plt.xlabel('$\\pi_1$', fontsize=20)\n",
    "plt.ylabel('$\\pi_2$', fontsize=20)\n",
    "plt.show()"
   ]
  },
  {
   "cell_type": "code",
   "execution_count": null,
   "metadata": {},
   "outputs": [],
   "source": [
    "#Contours are clearly non-convex. We're not dealing with a convex function.\n",
    "#There doesn't seem to be a good way to verify unimodality, either"
   ]
  },
  {
   "cell_type": "code",
   "execution_count": null,
   "metadata": {},
   "outputs": [],
   "source": []
  },
  {
   "cell_type": "code",
   "execution_count": null,
   "metadata": {},
   "outputs": [],
   "source": []
  },
  {
   "cell_type": "code",
   "execution_count": null,
   "metadata": {},
   "outputs": [],
   "source": []
  }
 ],
 "metadata": {
  "kernelspec": {
   "display_name": "Python 3",
   "language": "python",
   "name": "python3"
  },
  "language_info": {
   "codemirror_mode": {
    "name": "ipython",
    "version": 3
   },
   "file_extension": ".py",
   "mimetype": "text/x-python",
   "name": "python",
   "nbconvert_exporter": "python",
   "pygments_lexer": "ipython3",
   "version": "3.8.3"
  }
 },
 "nbformat": 4,
 "nbformat_minor": 4
}
